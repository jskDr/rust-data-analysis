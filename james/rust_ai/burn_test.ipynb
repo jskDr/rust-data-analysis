{
 "cells": [
  {
   "cell_type": "code",
   "execution_count": 2,
   "metadata": {},
   "outputs": [],
   "source": [
    ":dep burn = \"0.11.1\""
   ]
  },
  {
   "cell_type": "code",
   "execution_count": 3,
   "metadata": {},
   "outputs": [
    {
     "ename": "Error",
     "evalue": "unresolved import `burn::backend::Autodiff`",
     "output_type": "error",
     "traceback": [
      "\u001b[31m[E0432] Error:\u001b[0m unresolved import `burn::backend::Autodiff`"
     ]
    },
    {
     "ename": "Error",
     "evalue": "unresolved import `burn::backend::Wgpu`",
     "output_type": "error",
     "traceback": [
      "\u001b[31m[E0432] Error:\u001b[0m unresolved import `burn::backend::Wgpu`"
     ]
    }
   ],
   "source": [
    "use burn::backend::{Autodiff, Wgpu};\n",
    "use burn::tensor::{Distribution, Tensor};\n",
    "\n",
    "fn main() {\n",
    "    type Backend = Autodiff<Wgpu>;\n",
    "\n",
    "    let x: Tensor<Backend, 2> = Tensor::random([32, 32], Distribution::Default);\n",
    "    let y: Tensor<Backend, 2> = Tensor::random([32, 32], Distribution::Default).require_grad();\n",
    "\n",
    "    let tmp = x.clone() + y.clone();\n",
    "    let tmp = tmp.matmul(x);\n",
    "    let tmp = tmp.exp();\n",
    "\n",
    "    let grads = tmp.backward();\n",
    "    let y_grad = y.grad(&grads).unwrap();\n",
    "    println!(\"{y_grad}\");\n",
    "}"
   ]
  },
  {
   "cell_type": "code",
   "execution_count": null,
   "metadata": {},
   "outputs": [],
   "source": []
  }
 ],
 "metadata": {
  "kernelspec": {
   "display_name": "Rust",
   "language": "rust",
   "name": "rust"
  },
  "language_info": {
   "codemirror_mode": "rust",
   "file_extension": ".rs",
   "mimetype": "text/rust",
   "name": "rust",
   "pygment_lexer": "rust",
   "version": ""
  }
 },
 "nbformat": 4,
 "nbformat_minor": 2
}
