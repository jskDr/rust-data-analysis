{
 "cells": [
  {
   "cell_type": "markdown",
   "metadata": {},
   "source": [
    "* https://www.arewelearningyet.com/"
   ]
  },
  {
   "cell_type": "code",
   "execution_count": 2,
   "metadata": {},
   "outputs": [],
   "source": [
    ":dep candle-core = \"0.3.2\""
   ]
  },
  {
   "cell_type": "code",
   "execution_count": 12,
   "metadata": {},
   "outputs": [],
   "source": [
    "use candle_core::{Device, Tensor};\n",
    "\n",
    "fn main() -> Result<(), Box<dyn std::error::Error>> {\n",
    "    let device = Device::Cpu;\n",
    "\n",
    "    let a = Tensor::randn(0f32, 1., (2, 3), &device)?;\n",
    "    let b = Tensor::randn(0f32, 1., (3, 4), &device)?;\n",
    "\n",
    "    let c = a.matmul(&b)?;\n",
    "    println!(\"a={a}\");\n",
    "    println!(\"b={b}\");\n",
    "    println!(\"a * b = {c}\");\n",
    "    Ok(())\n",
    "}"
   ]
  },
  {
   "cell_type": "code",
   "execution_count": 13,
   "metadata": {},
   "outputs": [
    {
     "name": "stdout",
     "output_type": "stream",
     "text": [
      "a=[[-0.5728,  2.6260,  0.8171],\n",
      " [ 0.5277, -0.0400,  1.7335]]\n",
      "Tensor[[2, 3], f32]\n",
      "b=[[-1.5493,  0.7080, -0.1016,  0.5968],\n",
      " [-0.7516,  0.2422, -0.2403, -0.4392],\n",
      " [ 1.1530, -0.1060,  1.2645, -0.7117]]\n",
      "Tensor[[3, 4], f32]\n",
      "a * b = [[-0.1443,  0.1439,  0.4605, -2.0767],\n",
      " [ 1.2112,  0.1802,  2.1481, -0.9013]]\n",
      "Tensor[[2, 4], f32]\n"
     ]
    },
    {
     "data": {
      "text/plain": [
       "Ok(())"
      ]
     },
     "execution_count": 13,
     "metadata": {},
     "output_type": "execute_result"
    }
   ],
   "source": [
    "main()"
   ]
  },
  {
   "cell_type": "code",
   "execution_count": 5,
   "metadata": {},
   "outputs": [],
   "source": [
    "let device = Device::Cpu;"
   ]
  },
  {
   "cell_type": "code",
   "execution_count": 9,
   "metadata": {},
   "outputs": [
    {
     "name": "stdout",
     "output_type": "stream",
     "text": [
      "[[-0.8961,  0.5434, -0.6067],\n",
      " [ 0.4552,  0.1779, -1.3884]]\n",
      "Tensor[[2, 3], f32]\n"
     ]
    },
    {
     "data": {
      "text/plain": [
       "Tensor[dims 2, 3; f32]"
      ]
     },
     "execution_count": 9,
     "metadata": {},
     "output_type": "execute_result"
    }
   ],
   "source": [
    "let a = Tensor::randn(0f32, 1., (2, 3), &device)?;\n",
    "println!(\"{a}\");"
   ]
  },
  {
   "cell_type": "code",
   "execution_count": 10,
   "metadata": {},
   "outputs": [
    {
     "name": "stdout",
     "output_type": "stream",
     "text": [
      "[[ 0.5857,  0.4245, -0.4375,  0.9504],\n",
      " [-1.4895, -0.7551,  0.9111,  0.5505],\n",
      " [ 0.8323, -0.0106, -0.5289, -0.7283]]\n",
      "Tensor[[3, 4], f32]\n"
     ]
    }
   ],
   "source": [
    "let b = Tensor::randn(0f32, 1., (3, 4), &device)?;\n",
    "println!(\"{b}\");"
   ]
  },
  {
   "cell_type": "code",
   "execution_count": 11,
   "metadata": {},
   "outputs": [
    {
     "name": "stdout",
     "output_type": "stream",
     "text": [
      "[[-1.8392, -0.7843,  1.2080, -0.1107],\n",
      " [-1.1540,  0.0736,  0.6973,  1.5418]]\n",
      "Tensor[[2, 4], f32]\n"
     ]
    }
   ],
   "source": [
    "let c = a.matmul(&b)?;\n",
    "println!(\"{c}\");"
   ]
  },
  {
   "cell_type": "code",
   "execution_count": null,
   "metadata": {},
   "outputs": [],
   "source": []
  }
 ],
 "metadata": {
  "kernelspec": {
   "display_name": "Rust",
   "language": "rust",
   "name": "rust"
  },
  "language_info": {
   "codemirror_mode": "rust",
   "file_extension": ".rs",
   "mimetype": "text/rust",
   "name": "rust",
   "pygment_lexer": "rust",
   "version": ""
  }
 },
 "nbformat": 4,
 "nbformat_minor": 2
}
