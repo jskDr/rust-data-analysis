{
 "cells": [
  {
   "cell_type": "markdown",
   "metadata": {},
   "source": [
    "# Algorithm and Data Structure by Rust \n",
    "## Exercise of '3Sum'"
   ]
  },
  {
   "cell_type": "code",
   "execution_count": 23,
   "metadata": {
    "vscode": {
     "languageId": "rust"
    }
   },
   "outputs": [],
   "source": [
    "struct Solution;\n",
    "\n",
    "impl Solution {\n",
    "    pub fn three_sum(nums: Vec<i32>) -> Vec<Vec<i32>> {\n",
    "        let mut nums = nums;\n",
    "        nums.sort();\n",
    "        let mut results = Vec::new();\n",
    "        for i in 0..nums.len()-2 {\n",
    "            if i > 0 && nums[i] == nums[i-1] {\n",
    "                continue;\n",
    "            }\n",
    "            let mut st = i+1;\n",
    "            let mut ed = nums.len()-1;\n",
    "            while st < ed {\n",
    "                let s = nums[i] + nums[st] + nums[ed];\n",
    "                if s < 0 {st+=1;}\n",
    "                else if s > 0 {ed-=1;}\n",
    "                else {\n",
    "                    let p = vec![nums[i], nums[st], nums[ed]];\n",
    "                    results.push(p);\n",
    "                    let n_st = nums[st];\n",
    "                    let n_ed = nums[ed];\n",
    "                    while st < ed && nums[st] == n_st {st+=1;}\n",
    "                    while st < ed && nums[ed] == n_ed {ed-=1;}\n",
    "                }\n",
    "            }\n",
    "        }\n",
    "        results\n",
    "    }\n",
    "}"
   ]
  },
  {
   "cell_type": "code",
   "execution_count": 24,
   "metadata": {
    "vscode": {
     "languageId": "rust"
    }
   },
   "outputs": [],
   "source": [
    "fn main() {\n",
    "    let nums = vec![-1, 0, 1, 2, -1, -4];\n",
    "    let results = Solution::three_sum(nums);\n",
    "    println!(\"{:?}\", results);\n",
    "}"
   ]
  },
  {
   "cell_type": "code",
   "execution_count": 25,
   "metadata": {
    "vscode": {
     "languageId": "rust"
    }
   },
   "outputs": [
    {
     "name": "stdout",
     "output_type": "stream",
     "text": [
      "[[-1, -1, 2], [-1, 0, 1]]\n"
     ]
    }
   ],
   "source": [
    "main();"
   ]
  },
  {
   "cell_type": "markdown",
   "metadata": {},
   "source": [
    "### How to use sort() "
   ]
  },
  {
   "cell_type": "code",
   "execution_count": 26,
   "metadata": {
    "vscode": {
     "languageId": "rust"
    }
   },
   "outputs": [
    {
     "data": {
      "text/plain": [
       "[-4, -1, -1, 0, 1, 2]"
      ]
     },
     "execution_count": 26,
     "metadata": {},
     "output_type": "execute_result"
    }
   ],
   "source": [
    "let mut nums = vec![-1, 0, 1, 2, -1, -4];\n",
    "nums.sort();\n",
    "nums"
   ]
  },
  {
   "cell_type": "markdown",
   "metadata": {},
   "source": [
    "### How to use sort_by()"
   ]
  },
  {
   "cell_type": "code",
   "execution_count": 13,
   "metadata": {
    "vscode": {
     "languageId": "rust"
    }
   },
   "outputs": [
    {
     "data": {
      "text/plain": [
       "[-4, -1, -1, 0, 1, 2]"
      ]
     },
     "execution_count": 13,
     "metadata": {},
     "output_type": "execute_result"
    }
   ],
   "source": [
    "// Asscending order sort\n",
    "let mut nums = vec![-1, 0, 1, 2, -1, -4];\n",
    "nums.sort_by(|a, b| a.cmp(b));\n",
    "nums"
   ]
  },
  {
   "cell_type": "code",
   "execution_count": 27,
   "metadata": {
    "vscode": {
     "languageId": "rust"
    }
   },
   "outputs": [
    {
     "data": {
      "text/plain": [
       "[2, 1, 0, -1, -1, -4]"
      ]
     },
     "execution_count": 27,
     "metadata": {},
     "output_type": "execute_result"
    }
   ],
   "source": [
    "// Descending order sort\n",
    "let mut nums = vec![-1, 0, 1, 2, -1, -4];\n",
    "nums.sort_by(|a, b| b.cmp(a));\n",
    "nums"
   ]
  },
  {
   "cell_type": "code",
   "execution_count": 28,
   "metadata": {
    "vscode": {
     "languageId": "rust"
    }
   },
   "outputs": [
    {
     "name": "stdout",
     "output_type": "stream",
     "text": [
      "[(-4, \"f\"), (-1, \"a\"), (-1, \"e\"), (0, \"b\"), (1, \"c\"), (2, \"d\")]\n"
     ]
    },
    {
     "name": "stdout",
     "output_type": "stream",
     "text": [
      "[\"f\", \"a\", \"e\", \"b\", \"c\", \"d\"]\n",
      "faebcd\n"
     ]
    }
   ],
   "source": [
    "let mut tuple_vec = vec![(-1, \"a\"), (0, \"b\"), (1, \"c\"), (2, \"d\"), (-1, \"e\"), (-4, \"f\")];\n",
    "tuple_vec.sort_by(|a, b| a.0.cmp(&b.0));\n",
    "println!(\"{:?}\", tuple_vec);\n",
    "let str_vec:Vec<&str> = tuple_vec.iter().map(|x| x.1).collect();\n",
    "println!(\"{:?}\", str_vec);\n",
    "let s = str_vec.join(\"\");\n",
    "println!(\"{}\", s);"
   ]
  },
  {
   "cell_type": "code",
   "execution_count": null,
   "metadata": {
    "vscode": {
     "languageId": "rust"
    }
   },
   "outputs": [],
   "source": []
  }
 ],
 "metadata": {
  "kernelspec": {
   "display_name": "Rust",
   "language": "rust",
   "name": "rust"
  },
  "language_info": {
   "codemirror_mode": "rust",
   "file_extension": ".rs",
   "mimetype": "text/rust",
   "name": "Rust",
   "pygment_lexer": "rust",
   "version": ""
  }
 },
 "nbformat": 4,
 "nbformat_minor": 2
}
