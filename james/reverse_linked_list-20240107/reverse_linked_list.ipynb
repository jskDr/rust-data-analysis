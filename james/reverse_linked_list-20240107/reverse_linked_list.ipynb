{
 "cells": [
  {
   "cell_type": "markdown",
   "metadata": {},
   "source": [
    "# Algorithm and Data Structure by Rust \n",
    "## Exercise of Reverse Linked List"
   ]
  },
  {
   "cell_type": "code",
   "execution_count": 24,
   "metadata": {},
   "outputs": [],
   "source": [
    "// Definition for singly-linked list.\n",
    "#[derive(PartialEq, Eq, Clone, Debug)]\n",
    "pub struct ListNode {\n",
    "  pub val: i32,\n",
    "  pub next: Option<Box<ListNode>>\n",
    "}\n",
    "\n",
    "impl ListNode {\n",
    "  #[inline]\n",
    "  fn new(val: i32) -> Self {\n",
    "    ListNode {\n",
    "      next: None,\n",
    "      val\n",
    "    }\n",
    "  }\n",
    "}\n"
   ]
  },
  {
   "cell_type": "code",
   "execution_count": 25,
   "metadata": {},
   "outputs": [],
   "source": [
    "\n",
    "struct Solution;\n",
    "\n",
    "impl Solution {\n",
    "    pub fn reverse_list(head: Option<Box<ListNode>>) -> Option<Box<ListNode>> {\n",
    "        if head.is_none() || head.as_ref().unwrap().next.is_none() {\n",
    "            return head;\n",
    "        }\n",
    "\n",
    "        let mut prev = None;\n",
    "        let mut curr = head;\n",
    "\n",
    "        while let Some(mut curr_node) = curr {\n",
    "            let next = curr_node.next.take();\n",
    "            curr_node.next = prev;\n",
    "            prev = Some(curr_node);\n",
    "            curr = next;\n",
    "        } \n",
    "\n",
    "        prev\n",
    "    }\n",
    "}\n"
   ]
  },
  {
   "cell_type": "code",
   "execution_count": 26,
   "metadata": {},
   "outputs": [
    {
     "name": "stdout",
     "output_type": "stream",
     "text": [
      "5,4,3,2,1,\n"
     ]
    }
   ],
   "source": [
    "\n",
    "fn main() {\n",
    "    let mut head = Some(Box::new(ListNode::new(1)));\n",
    "    let mut curr = head.as_mut().unwrap();\n",
    "    for i in 2..6 {\n",
    "        curr.next = Some(Box::new(ListNode::new(i)));\n",
    "        curr = curr.next.as_mut().unwrap();\n",
    "    }\n",
    "\n",
    "    let mut curr = Solution::reverse_list(head);\n",
    "    while let Some(curr_node) = curr {\n",
    "        print!(\"{},\", curr_node.val);\n",
    "        curr = curr_node.next;\n",
    "    }\n",
    "    println!();\n",
    "}\n",
    "\n",
    "main();"
   ]
  },
  {
   "cell_type": "code",
   "execution_count": 27,
   "metadata": {},
   "outputs": [
    {
     "name": "stdout",
     "output_type": "stream",
     "text": [
      "Original: 1->2->3->4->5->None\n",
      "Reversed: 5->4->3->2->1->None\n"
     ]
    }
   ],
   "source": [
    "\n",
    "fn main() {\n",
    "    let mut head = Some(Box::new(ListNode::new(1)));\n",
    "    let mut curr = head.as_mut().unwrap();\n",
    "    for i in 2..6 {\n",
    "        curr.next = Some(Box::new(ListNode::new(i)));\n",
    "        curr = curr.next.as_mut().unwrap();\n",
    "    }\n",
    "\n",
    "    let mut curr = head.clone();\n",
    "    print!(\"Original: \");\n",
    "    while let Some(curr_node) = curr {\n",
    "        print!(\"{}->\", curr_node.val);\n",
    "        curr = curr_node.next;\n",
    "    }\n",
    "    println!(\"None\");\n",
    "\n",
    "    let mut curr = Solution::reverse_list(head);\n",
    "    print!(\"Reversed: \");\n",
    "    while let Some(curr_node) = curr {\n",
    "        print!(\"{}->\", curr_node.val);\n",
    "        curr = curr_node.next;\n",
    "    }\n",
    "    println!(\"None\");\n",
    "}\n",
    "\n",
    "main();"
   ]
  },
  {
   "cell_type": "code",
   "execution_count": null,
   "metadata": {},
   "outputs": [],
   "source": []
  }
 ],
 "metadata": {
  "kernelspec": {
   "display_name": "Rust",
   "language": "rust",
   "name": "rust"
  },
  "language_info": {
   "codemirror_mode": "rust",
   "file_extension": ".rs",
   "mimetype": "text/rust",
   "name": "rust",
   "pygment_lexer": "rust",
   "version": ""
  }
 },
 "nbformat": 4,
 "nbformat_minor": 2
}
