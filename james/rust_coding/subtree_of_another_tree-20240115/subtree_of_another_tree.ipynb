{
 "cells": [
  {
   "cell_type": "markdown",
   "metadata": {},
   "source": [
    "# Algorithm and Data Structure by Rust \n",
    "## Exercise of Subtree of Another Tree"
   ]
  },
  {
   "cell_type": "code",
   "execution_count": 20,
   "metadata": {
    "vscode": {
     "languageId": "rust"
    }
   },
   "outputs": [],
   "source": [
    "use std::rc::Rc;\n",
    "use std::cell::RefCell;"
   ]
  },
  {
   "cell_type": "code",
   "execution_count": 21,
   "metadata": {
    "vscode": {
     "languageId": "rust"
    }
   },
   "outputs": [],
   "source": [
    "#[derive(Debug, PartialEq, Eq)]\n",
    "pub struct TreeNode {\n",
    "  pub val: i32,\n",
    "  pub left: Option<Rc<RefCell<TreeNode>>>,\n",
    "  pub right: Option<Rc<RefCell<TreeNode>>>,\n",
    "}\n",
    "\n",
    "impl TreeNode {\n",
    "  #[inline]\n",
    "  pub fn new(val: i32) -> Self {\n",
    "    TreeNode {\n",
    "      val,\n",
    "      left: None,\n",
    "      right: None\n",
    "    }\n",
    "  }\n",
    "}"
   ]
  },
  {
   "cell_type": "code",
   "execution_count": 22,
   "metadata": {
    "vscode": {
     "languageId": "rust"
    }
   },
   "outputs": [],
   "source": [
    "\n",
    "type RRT = Rc<RefCell<TreeNode>>;\n",
    "struct Solution;\n",
    "\n",
    "impl Solution {\n",
    "    fn check(root: Option<RRT>, sub_root: Option<RRT>) -> bool {\n",
    "        if root.is_none() && sub_root.is_none() {return true;}        \n",
    "        !root.is_none() && !sub_root.is_none() && { \n",
    "            let s_root = root.as_ref().unwrap(); \n",
    "            let s_sub_root = sub_root.as_ref().unwrap();\n",
    "            s_root.borrow().val == s_sub_root.borrow().val &&\n",
    "            Solution::check(s_root.borrow().left.clone(), s_sub_root.borrow().left.clone()) &&\n",
    "            Solution::check(s_root.borrow().right.clone(), s_sub_root.borrow().right.clone())}\n",
    "    }\n",
    "    pub fn is_subtree(root: Option<RRT>, sub_root: Option<RRT>) -> bool {\n",
    "        if root.is_none() {return false;}\n",
    "        let s_root = root.as_ref().unwrap();\n",
    "        Solution::check(root.clone(), sub_root.clone()) ||\n",
    "           Solution::is_subtree(s_root.borrow().left.clone(), sub_root.clone()) ||\n",
    "            Solution::is_subtree(s_root.borrow().right.clone(), sub_root.clone())\n",
    "    }\n",
    "}"
   ]
  },
  {
   "cell_type": "code",
   "execution_count": 25,
   "metadata": {
    "vscode": {
     "languageId": "rust"
    }
   },
   "outputs": [],
   "source": [
    "fn test1() {\n",
    "    let root = Some(Rc::new(RefCell::new(TreeNode::new(3))));\n",
    "    let sub_root = Some(Rc::new(RefCell::new(TreeNode::new(1))));\n",
    "    \n",
    "    assert_eq!(Solution::is_subtree(root, sub_root), false);\n",
    "}\n",
    "\n",
    "test1();"
   ]
  },
  {
   "cell_type": "code",
   "execution_count": 28,
   "metadata": {
    "vscode": {
     "languageId": "rust"
    }
   },
   "outputs": [],
   "source": [
    "\n",
    "\n",
    "fn test2() {\n",
    "    let node_left = Some(Rc::new(RefCell::new(TreeNode::new(1))));\n",
    "    let node_right = Some(Rc::new(RefCell::new(TreeNode::new(2))));\n",
    "    let node_left = Some(Rc::new(RefCell::new(TreeNode{val: 4, left: node_left, right: node_right})));\n",
    "    let node_right = Some(Rc::new(RefCell::new(TreeNode::new(5))));\n",
    "    let root = Some(Rc::new(RefCell::new(TreeNode{val: 3, left: node_left, right: node_right})));\n",
    "\n",
    "    let node_left = Some(Rc::new(RefCell::new(TreeNode::new(1))));\n",
    "    let node_right = Some(Rc::new(RefCell::new(TreeNode::new(3))));\n",
    "    let sub_root = Some(Rc::new(RefCell::new(TreeNode{val: 4, left: node_left, right: node_right})));\n",
    "\n",
    "    assert_eq!(Solution::is_subtree(root, sub_root), false);\n",
    "}\n",
    "\n",
    "test2();"
   ]
  }
 ],
 "metadata": {
  "kernelspec": {
   "display_name": "Rust",
   "language": "rust",
   "name": "rust"
  },
  "language_info": {
   "codemirror_mode": "rust",
   "file_extension": ".rs",
   "mimetype": "text/rust",
   "name": "Rust",
   "pygment_lexer": "rust",
   "version": ""
  }
 },
 "nbformat": 4,
 "nbformat_minor": 2
}
