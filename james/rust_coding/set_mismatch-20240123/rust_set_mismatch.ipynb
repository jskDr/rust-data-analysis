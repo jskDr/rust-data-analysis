{
 "cells": [
  {
   "cell_type": "code",
   "execution_count": 14,
   "metadata": {},
   "outputs": [],
   "source": [
    "struct Solution;\n",
    "impl Solution {\n",
    "    pub fn find_error_nums(nums: Vec<i32>) -> Vec<i32> {\n",
    "        let mut results: Vec<i32> = vec![0,0];\n",
    "        let mut buff: Vec<i32> = vec![0; nums.len()];\n",
    "        \n",
    "        nums.iter().for_each(|n| buff[(n-1) as usize] += 1);\n",
    "        buff.into_iter().enumerate().for_each(|(i, n)| {\n",
    "            if n == 0 {\n",
    "                results[1] = (i + 1) as i32;\n",
    "            } else if n == 2 {\n",
    "                results[0] = (i + 1) as i32;\n",
    "            }\n",
    "        });\n",
    "            \n",
    "        results\n",
    "    }\n",
    "}"
   ]
  },
  {
   "cell_type": "code",
   "execution_count": 21,
   "metadata": {},
   "outputs": [],
   "source": [
    "fn main() {\n",
    "    let results = Solution::find_error_nums(vec![1,2,2,4]);\n",
    "    assert_eq!(results, vec![2,3]);\n",
    "\n",
    "    let results = Solution::find_error_nums(vec![1,1]);\n",
    "    assert_eq!(results, vec![1,2]);\n",
    "}"
   ]
  },
  {
   "cell_type": "markdown",
   "metadata": {},
   "source": [
    "## Test Cases"
   ]
  },
  {
   "cell_type": "code",
   "execution_count": null,
   "metadata": {},
   "outputs": [],
   "source": [
    "fn main() {\n",
    "    let v = vec![1, 2, 3, 4];\n",
    "    let filtered_v: Vec<i32> = v.into_iter().filter(|&e| e == 3).collect();\n",
    "    println!(\"{:?}\", filtered_v);\n",
    "}\n"
   ]
  },
  {
   "cell_type": "code",
   "execution_count": 17,
   "metadata": {},
   "outputs": [
    {
     "name": "stdout",
     "output_type": "stream",
     "text": [
      "[2]\n"
     ]
    },
    {
     "data": {
      "text/plain": [
       "()"
      ]
     },
     "execution_count": 17,
     "metadata": {},
     "output_type": "execute_result"
    }
   ],
   "source": [
    "fn main() {\n",
    "    let v = vec![1, 2, 3, 4];\n",
    "    let filtered_v: Vec<i32> = v\n",
    "        .into_iter()\n",
    "        .filter_map(|e| {\n",
    "            // type of e is i32\n",
    "            if e == 2 {\n",
    "                Some(2)\n",
    "            } else if e == 0 {\n",
    "                Some(0)\n",
    "            } else {\n",
    "                None\n",
    "            }\n",
    "        })\n",
    "        .collect();\n",
    "    println!(\"{:?}\", filtered_v);\n",
    "}\n",
    "\n",
    "main()"
   ]
  },
  {
   "cell_type": "code",
   "execution_count": 20,
   "metadata": {},
   "outputs": [
    {
     "name": "stdout",
     "output_type": "stream",
     "text": [
      "[1, 2]\n"
     ]
    }
   ],
   "source": [
    "fn main() {\n",
    "    let v = vec![1, 2, 0, 4];\n",
    "    let filtered_v: Vec<i32> = v\n",
    "        .into_iter()\n",
    "        .enumerate()\n",
    "        .filter_map(|(i,e)| {\n",
    "            // type of e is i32\n",
    "            if e == 2 {\n",
    "                Some(i as i32)\n",
    "            } else if e == 0 {\n",
    "                Some(i as i32)\n",
    "            } else {\n",
    "                None\n",
    "            }\n",
    "        })\n",
    "        .collect();\n",
    "    println!(\"{:?}\", filtered_v);\n",
    "}\n",
    "\n",
    "main();"
   ]
  },
  {
   "cell_type": "code",
   "execution_count": null,
   "metadata": {},
   "outputs": [],
   "source": []
  }
 ],
 "metadata": {
  "kernelspec": {
   "display_name": "Rust",
   "language": "rust",
   "name": "rust"
  },
  "language_info": {
   "codemirror_mode": "rust",
   "file_extension": ".rs",
   "mimetype": "text/rust",
   "name": "rust",
   "pygment_lexer": "rust",
   "version": ""
  }
 },
 "nbformat": 4,
 "nbformat_minor": 2
}
