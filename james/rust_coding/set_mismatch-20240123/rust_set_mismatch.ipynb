{
 "cells": [
  {
   "cell_type": "markdown",
   "metadata": {},
   "source": [
    "# Rust Coding - Set Mismatch"
   ]
  },
  {
   "cell_type": "code",
   "execution_count": 39,
   "metadata": {},
   "outputs": [],
   "source": [
    "struct Solution;\n",
    "impl Solution {\n",
    "    pub fn find_error_nums(nums: Vec<i32>) -> Vec<i32> {\n",
    "        let mut results: Vec<i32> = vec![0,0];\n",
    "        let mut buff: Vec<i32> = vec![0; nums.len()];\n",
    "        \n",
    "        nums.iter().for_each(|n| buff[(n-1) as usize] += 1); // n: &i32\n",
    "        buff.iter().enumerate().for_each(|(i, &b)| { // i: usize, b: &i32\n",
    "            if b == 0 {\n",
    "                results[1] = (i + 1) as i32;\n",
    "            } else if b == 2 {\n",
    "                results[0] = (i + 1) as i32;\n",
    "            }\n",
    "        });\n",
    "            \n",
    "        results\n",
    "    }\n",
    "}"
   ]
  },
  {
   "cell_type": "code",
   "execution_count": 40,
   "metadata": {},
   "outputs": [],
   "source": [
    "fn main() {\n",
    "    let results = Solution::find_error_nums(vec![1,2,2,4]);\n",
    "    assert_eq!(results, vec![2,3]);\n",
    "\n",
    "    let results = Solution::find_error_nums(vec![2,2]);\n",
    "    assert_eq!(results, vec![2,1]);\n",
    "}"
   ]
  },
  {
   "cell_type": "markdown",
   "metadata": {},
   "source": [
    "## Analysis"
   ]
  },
  {
   "cell_type": "code",
   "execution_count": 43,
   "metadata": {},
   "outputs": [
    {
     "name": "stdout",
     "output_type": "stream",
     "text": [
      "[1, 2, 2, 4]\n"
     ]
    },
    {
     "data": {
      "text/plain": [
       "[2, 3]"
      ]
     },
     "execution_count": 43,
     "metadata": {},
     "output_type": "execute_result"
    }
   ],
   "source": [
    "let nums = vec![1,2,2,4];\n",
    "\n",
    "let mut results: Vec<i32> = vec![0,0];\n",
    "let mut buff: Vec<i32> = vec![0; nums.len()];\n",
    "\n",
    "nums.iter().for_each(|&n| buff[(n-1) as usize] += 1);\n",
    "println!(\"{:?}\", nums);\n",
    "buff.iter().enumerate().for_each(|(i, b)| {\n",
    "    if *b == 0 {\n",
    "        results[1] = (i + 1) as i32;\n",
    "    } else if *b == 2 {\n",
    "        results[0] = (i + 1) as i32;\n",
    "    }\n",
    "});\n",
    "    \n",
    "results"
   ]
  },
  {
   "cell_type": "code",
   "execution_count": 44,
   "metadata": {},
   "outputs": [],
   "source": [
    "let nums = vec![1,2,2,4];\n",
    "\n",
    "let mut results: Vec<i32> = vec![0,0];\n",
    "let mut buff: Vec<i32> = vec![0; nums.len()];"
   ]
  },
  {
   "cell_type": "code",
   "execution_count": 45,
   "metadata": {},
   "outputs": [
    {
     "name": "stdout",
     "output_type": "stream",
     "text": [
      "[1, 2, 0, 1]\n",
      "[1, 2, 0, 1]\n",
      "[1, 2, 0, 1]\n"
     ]
    }
   ],
   "source": [
    "// Equivalent iteration -- for_each\n",
    "buff = vec![0; nums.len()];\n",
    "nums.iter().for_each(|n| buff[(n-1) as usize] += 1);\n",
    "println!(\"{:?}\", buff);\n",
    "\n",
    "// Equivalent iteration -- for with iter()\n",
    "buff = vec![0; nums.len()];\n",
    "for n in nums.iter() {\n",
    "    buff[(n-1) as usize] += 1;\n",
    "}\n",
    "println!(\"{:?}\", buff);\n",
    "\n",
    "// Equivalent iteration -- for with reference\n",
    "buff = vec![0; nums.len()];\n",
    "for n in &nums {\n",
    "    buff[(n-1) as usize] += 1;\n",
    "}\n",
    "println!(\"{:?}\", buff);"
   ]
  },
  {
   "cell_type": "code",
   "execution_count": 46,
   "metadata": {},
   "outputs": [
    {
     "name": "stdout",
     "output_type": "stream",
     "text": [
      "results: [2, 3]\n",
      "results: [2, 3]\n"
     ]
    }
   ],
   "source": [
    "// equivalent iteration -- for_each\n",
    "buff.iter().enumerate().for_each(|(i, b)| {\n",
    "    if *b == 0 {\n",
    "        results[1] = (i + 1) as i32;\n",
    "    } else if *b == 2 {\n",
    "        results[0] = (i + 1) as i32;\n",
    "    }\n",
    "});\n",
    "println!(\"results: {:?}\", results);\n",
    "\n",
    "// equivalent iteration -- for with iter()\n",
    "for (i,b) in buff.iter().enumerate() {\n",
    "    if *b == 0 {\n",
    "        results[1] = (i + 1) as i32;\n",
    "    }\n",
    "    else if *b == 2 {\n",
    "        results[0] = (i + 1) as i32;\n",
    "    }\n",
    "}\n",
    "println!(\"results: {:?}\", results);"
   ]
  },
  {
   "cell_type": "code",
   "execution_count": null,
   "metadata": {},
   "outputs": [],
   "source": []
  }
 ],
 "metadata": {
  "kernelspec": {
   "display_name": "Rust",
   "language": "rust",
   "name": "rust"
  },
  "language_info": {
   "codemirror_mode": "rust",
   "file_extension": ".rs",
   "mimetype": "text/rust",
   "name": "rust",
   "pygment_lexer": "rust",
   "version": ""
  }
 },
 "nbformat": 4,
 "nbformat_minor": 2
}
