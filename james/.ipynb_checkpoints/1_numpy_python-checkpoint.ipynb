{
 "cells": [
  {
   "cell_type": "markdown",
   "id": "7cf0d4ee-57aa-4199-83a4-e608116b8dd6",
   "metadata": {},
   "source": [
    "# DataScience By Rust\n",
    "# I. How to Use numpy in Python"
   ]
  },
  {
   "cell_type": "markdown",
   "id": "7dbf7190-122e-45fb-a029-db0d914edddf",
   "metadata": {},
   "source": [
    "## 1. Set-Up to Use numpy"
   ]
  },
  {
   "cell_type": "markdown",
   "id": "637b064f-1218-4256-9930-b5e7450310ed",
   "metadata": {},
   "source": [
    "### Import Items from the Package"
   ]
  },
  {
   "cell_type": "code",
   "execution_count": 6,
   "id": "3b015141-e627-472f-8d0d-b3da3a9b3081",
   "metadata": {},
   "outputs": [],
   "source": [
    "import numpy as np"
   ]
  },
  {
   "cell_type": "markdown",
   "id": "5366eb8e-c28d-45aa-821b-cf086c1b45b4",
   "metadata": {},
   "source": [
    "## 2. Basic Usage of numpy"
   ]
  },
  {
   "cell_type": "markdown",
   "id": "a476f9f2-b9e4-48ad-9e46-b9e5857a850e",
   "metadata": {},
   "source": [
    "### Assignment and Basic Math Operations"
   ]
  },
  {
   "cell_type": "code",
   "execution_count": 8,
   "id": "8732ce6d-618b-40a3-9cef-1463d265414d",
   "metadata": {},
   "outputs": [
    {
     "data": {
      "text/plain": [
       "array([1., 2., 3., 4.])"
      ]
     },
     "execution_count": 8,
     "metadata": {},
     "output_type": "execute_result"
    }
   ],
   "source": [
    "arr_01 = np.array([1., 2., 3., 4.])\n",
    "arr_01"
   ]
  },
  {
   "cell_type": "code",
   "execution_count": 9,
   "id": "bd4d65e9-8181-4154-a468-4ba3ffad1faf",
   "metadata": {},
   "outputs": [
    {
     "data": {
      "text/plain": [
       "array([1., 2., 3., 4.])"
      ]
     },
     "execution_count": 9,
     "metadata": {},
     "output_type": "execute_result"
    }
   ],
   "source": [
    "arr_02 = np.array([1., 2., 3., 4.])\n",
    "arr_02"
   ]
  },
  {
   "cell_type": "code",
   "execution_count": 10,
   "id": "410c0a50-2315-4a54-a7d6-8189024ba525",
   "metadata": {},
   "outputs": [
    {
     "data": {
      "text/plain": [
       "array([2., 4., 6., 8.])"
      ]
     },
     "execution_count": 10,
     "metadata": {},
     "output_type": "execute_result"
    }
   ],
   "source": [
    "arr_03 = arr_01 + arr_02\n",
    "arr_03"
   ]
  },
  {
   "cell_type": "code",
   "execution_count": 5,
   "id": "567e6216-89b5-4472-ac37-f260447bed17",
   "metadata": {},
   "outputs": [
    {
     "data": {
      "text/plain": [
       "array([ 4.,  8., 12., 16.])"
      ]
     },
     "execution_count": 5,
     "metadata": {},
     "output_type": "execute_result"
    }
   ],
   "source": [
    "arr_04 = 2.0 * arr_03;\n",
    "arr_04"
   ]
  },
  {
   "cell_type": "code",
   "execution_count": 11,
   "id": "4a6cc8a9-9182-415e-aadc-99f0fb2e93b7",
   "metadata": {},
   "outputs": [
    {
     "data": {
      "text/plain": [
       "array([ 1.,  4.,  9., 16.])"
      ]
     },
     "execution_count": 11,
     "metadata": {},
     "output_type": "execute_result"
    }
   ],
   "source": [
    "arr_05 = arr_01 * arr_02\n",
    "arr_05"
   ]
  },
  {
   "cell_type": "markdown",
   "id": "767a01ab-5ae4-4826-84cd-c21d2da733da",
   "metadata": {},
   "source": [
    "### Basic Generation Methods"
   ]
  },
  {
   "cell_type": "code",
   "execution_count": 12,
   "id": "61126526-73f2-431a-8549-1c0e25fd09c6",
   "metadata": {},
   "outputs": [
    {
     "data": {
      "text/plain": [
       "array([[0., 0., 0.],\n",
       "       [0., 0., 0.],\n",
       "       [0., 0., 0.]])"
      ]
     },
     "execution_count": 12,
     "metadata": {},
     "output_type": "execute_result"
    }
   ],
   "source": [
    "arr_11 = np.zeros((3,3))\n",
    "arr_11"
   ]
  },
  {
   "cell_type": "code",
   "execution_count": 14,
   "id": "55429d81-1649-4ca7-aa20-fa46049f49c9",
   "metadata": {},
   "outputs": [
    {
     "data": {
      "text/plain": [
       "array([[1., 1., 1.],\n",
       "       [1., 1., 1.],\n",
       "       [1., 1., 1.]])"
      ]
     },
     "execution_count": 14,
     "metadata": {},
     "output_type": "execute_result"
    }
   ],
   "source": [
    "arr_12 = np.ones((3,3))\n",
    "arr_12"
   ]
  },
  {
   "cell_type": "code",
   "execution_count": 15,
   "id": "708603dd-719c-42bb-96a7-ddff31e0a31b",
   "metadata": {},
   "outputs": [
    {
     "data": {
      "text/plain": [
       "array([[1., 0., 0.],\n",
       "       [0., 1., 0.],\n",
       "       [0., 0., 1.]])"
      ]
     },
     "execution_count": 15,
     "metadata": {},
     "output_type": "execute_result"
    }
   ],
   "source": [
    "arr_13 = np.eye(3)\n",
    "arr_13"
   ]
  },
  {
   "cell_type": "code",
   "execution_count": 16,
   "id": "7f6b1674-da90-476c-941b-fe7993bad716",
   "metadata": {},
   "outputs": [
    {
     "data": {
      "text/plain": [
       "array([[1., 1., 1.],\n",
       "       [1., 1., 1.],\n",
       "       [1., 1., 1.]])"
      ]
     },
     "execution_count": 16,
     "metadata": {},
     "output_type": "execute_result"
    }
   ],
   "source": [
    "arr_14 = np.zeros((3,3))\n",
    "arr_14.fill(1.)\n",
    "arr_14"
   ]
  },
  {
   "cell_type": "markdown",
   "id": "ffaa0ea5-3648-433c-9caf-a6346594306c",
   "metadata": {},
   "source": [
    "### Range and Linspace"
   ]
  },
  {
   "cell_type": "code",
   "execution_count": 19,
   "id": "e77baf84-934a-4018-8877-0ae98b8d3271",
   "metadata": {},
   "outputs": [
    {
     "data": {
      "text/plain": [
       "array([0., 1., 2., 3., 4.])"
      ]
     },
     "execution_count": 19,
     "metadata": {},
     "output_type": "execute_result"
    }
   ],
   "source": [
    "arr_15 = np.arange(0., 5., 1.);\n",
    "arr_15"
   ]
  },
  {
   "cell_type": "code",
   "execution_count": 20,
   "id": "33edf956-badd-49e4-99a6-f9b2752082ad",
   "metadata": {},
   "outputs": [
    {
     "data": {
      "text/plain": [
       "array([0.  , 0.25, 0.5 , 0.75, 1.  ])"
      ]
     },
     "execution_count": 20,
     "metadata": {},
     "output_type": "execute_result"
    }
   ],
   "source": [
    "arr_16 = np.linspace(0., 1., 5);\n",
    "arr_16"
   ]
  },
  {
   "cell_type": "code",
   "execution_count": null,
   "id": "db097406-8255-4987-8ddf-080b6a388f6a",
   "metadata": {},
   "outputs": [],
   "source": []
  }
 ],
 "metadata": {
  "kernelspec": {
   "display_name": "Python 3 (ipykernel)",
   "language": "python",
   "name": "python3"
  },
  "language_info": {
   "codemirror_mode": {
    "name": "ipython",
    "version": 3
   },
   "file_extension": ".py",
   "mimetype": "text/x-python",
   "name": "python",
   "nbconvert_exporter": "python",
   "pygments_lexer": "ipython3",
   "version": "3.9.17"
  }
 },
 "nbformat": 4,
 "nbformat_minor": 5
}
