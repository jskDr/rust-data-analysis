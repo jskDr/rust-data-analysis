{
 "cells": [
  {
   "cell_type": "code",
   "execution_count": 28,
   "metadata": {
    "vscode": {
     "languageId": "rust"
    }
   },
   "outputs": [
    {
     "name": "stdout",
     "output_type": "stream",
     "text": [
      "[1, 2, 3, 4]\n"
     ]
    }
   ],
   "source": [
    "fn for_fn(v: Vec<i32>) {\n",
    "    // type of v is Vec<i32>\n",
    "    println!(\"{:?}\", v);\n",
    "}\n",
    "\n",
    "fn main() {\n",
    "    let v = vec![1,2,3,4];\n",
    "    for_fn(v);\n",
    "    // we can not reuse v here, because it has been moved\n",
    "}\n",
    "\n",
    "main();"
   ]
  },
  {
   "cell_type": "code",
   "execution_count": 26,
   "metadata": {
    "vscode": {
     "languageId": "rust"
    }
   },
   "outputs": [
    {
     "name": "stdout",
     "output_type": "stream",
     "text": [
      "1\n",
      "2\n",
      "3\n",
      "4\n"
     ]
    }
   ],
   "source": [
    "fn main() {\n",
    "    let v = vec![1,2,3,4];\n",
    "    for e in v { // <-- equivalent to call for_fn(v)\n",
    "        // type of e is i32\n",
    "        println!(\"{}\", e);\n",
    "    }\n",
    "    // we can not reuse v here, because it has been moved\n",
    "}\n",
    "\n",
    "main();"
   ]
  },
  {
   "cell_type": "code",
   "execution_count": 29,
   "metadata": {
    "vscode": {
     "languageId": "rust"
    }
   },
   "outputs": [
    {
     "name": "stdout",
     "output_type": "stream",
     "text": [
      "1\n",
      "2\n",
      "3\n",
      "4\n"
     ]
    }
   ],
   "source": [
    "fn main() {\n",
    "    let v = vec![1,2,3,4];\n",
    "    for e in v.into_iter() { // <-- equivalent to call for_fn(v)\n",
    "        // type of e is i32\n",
    "        println!(\"{}\", e);\n",
    "    }\n",
    "}\n",
    "\n",
    "main();"
   ]
  },
  {
   "cell_type": "code",
   "execution_count": 31,
   "metadata": {
    "vscode": {
     "languageId": "rust"
    }
   },
   "outputs": [
    {
     "name": "stdout",
     "output_type": "stream",
     "text": [
      "1\n",
      "2\n",
      "3\n",
      "4\n"
     ]
    }
   ],
   "source": [
    "fn main() {\n",
    "    let v = vec![1,2,3,4];\n",
    "    for e in &v { // &v is eqivalent to v.iter()\n",
    "        // type of e is &i32\n",
    "        println!(\"{}\", e); //&i32 is automatically dereferenced to i32 in println! by the compiler\n",
    "    }\n",
    "}\n",
    "\n",
    "main();"
   ]
  },
  {
   "cell_type": "code",
   "execution_count": 18,
   "metadata": {
    "vscode": {
     "languageId": "rust"
    }
   },
   "outputs": [
    {
     "name": "stdout",
     "output_type": "stream",
     "text": [
      "[11, 2, 3, 4]\n"
     ]
    }
   ],
   "source": [
    "fn for_fn(mut v: Vec<i32>) { // <-- v is mutable here only\n",
    "    // fn for_fn_01(v: &mut Vec<i32>) { <-- v is mutable & reference here and in the caller\n",
    "    v[0] += 10;\n",
    "    println!(\"{:?}\", v);\n",
    "}\n",
    "\n",
    "fn main() {\n",
    "    let v = vec![1,2,3,4];\n",
    "    for_fn(v);\n",
    "    // println!(\"{:?}\", v);\n",
    "    // for e in v {\n",
    "    //     println!(\"{}\", e);\n",
    "    // }\n",
    "}\n",
    "\n",
    "main();"
   ]
  },
  {
   "cell_type": "code",
   "execution_count": 20,
   "metadata": {
    "vscode": {
     "languageId": "rust"
    }
   },
   "outputs": [
    {
     "name": "stdout",
     "output_type": "stream",
     "text": [
      "[11, 2, 3, 4]\n"
     ]
    }
   ],
   "source": [
    "fn for_fn(v: Vec<i32>) { // <-- v is mutable here only\n",
    "    // fn for_fn_01(v: &mut Vec<i32>) { <-- v is mutable & reference here and in the caller\n",
    "    let mut v = v; // only mutable in this scope\n",
    "    v[0] += 10;\n",
    "    println!(\"{:?}\", v);\n",
    "}\n",
    "\n",
    "fn main() {\n",
    "    let v = vec![1,2,3,4];\n",
    "    for_fn_01(v);\n",
    "    // println!(\"{:?}\", v);\n",
    "    // for e in v {\n",
    "    //     println!(\"{}\", e);\n",
    "    // }\n",
    "}\n",
    "\n",
    "main();"
   ]
  },
  {
   "cell_type": "code",
   "execution_count": 22,
   "metadata": {
    "vscode": {
     "languageId": "rust"
    }
   },
   "outputs": [
    {
     "name": "stdout",
     "output_type": "stream",
     "text": [
      "[11, 2, 3, 4]\n",
      "[11, 2, 3, 4]\n"
     ]
    }
   ],
   "source": [
    "fn for_fn(v: &mut Vec<i32>) { // <-- v is mutable here and in the caller\n",
    "    v[0] += 10;\n",
    "    println!(\"{:?}\", v);\n",
    "}\n",
    "\n",
    "fn main() {\n",
    "    let mut v = vec![1,2,3,4];\n",
    "    for_fn(&mut v);\n",
    "    println!(\"{:?}\", v);\n",
    "    // for e in v {\n",
    "    //     println!(\"{}\", e);\n",
    "    // }\n",
    "}\n",
    "\n",
    "main();"
   ]
  },
  {
   "cell_type": "code",
   "execution_count": 24,
   "metadata": {
    "vscode": {
     "languageId": "rust"
    }
   },
   "outputs": [
    {
     "name": "stdout",
     "output_type": "stream",
     "text": [
      "[11, 2, 3, 4]\n",
      "[11, 2, 3, 4]\n",
      "21\n",
      "12\n",
      "13\n",
      "14\n"
     ]
    }
   ],
   "source": [
    "fn main() {\n",
    "    let mut v = vec![1,2,3,4];\n",
    "    for_fn(&mut v);\n",
    "    println!(\"{:?}\", v);\n",
    "    for e in &mut v { // <-- equivalent to call for_fn(&mut v)\n",
    "        *e += 10;\n",
    "        println!(\"{}\", e);\n",
    "    }\n",
    "}\n",
    "\n",
    "main();"
   ]
  },
  {
   "cell_type": "code",
   "execution_count": 25,
   "metadata": {
    "vscode": {
     "languageId": "rust"
    }
   },
   "outputs": [
    {
     "name": "stdout",
     "output_type": "stream",
     "text": [
      "[11, 2, 3, 4]\n",
      "[11, 2, 3, 4]\n",
      "21\n",
      "12\n",
      "13\n",
      "14\n",
      "31\n",
      "22\n",
      "23\n",
      "24\n"
     ]
    }
   ],
   "source": [
    "fn main() {\n",
    "    let mut v = vec![1,2,3,4];\n",
    "    for_fn(&mut v);\n",
    "    println!(\"{:?}\", v);\n",
    "    for e in &mut v { // <-- equivalent to call for_fn(&mut v)\n",
    "        // type of e is &mut i32\n",
    "        *e += 10;\n",
    "        println!(\"{}\", e);\n",
    "    }\n",
    "    for e in v.iter_mut() { // <-- equivalent to call for_fn(&mut v)\n",
    "        // type of e is &mut i32\n",
    "        *e += 10;\n",
    "        println!(\"{}\", e);\n",
    "    }\n",
    "}\n",
    "\n",
    "main();"
   ]
  },
  {
   "cell_type": "code",
   "execution_count": null,
   "metadata": {
    "vscode": {
     "languageId": "rust"
    }
   },
   "outputs": [],
   "source": []
  }
 ],
 "metadata": {
  "kernelspec": {
   "display_name": "Rust",
   "language": "rust",
   "name": "rust"
  },
  "language_info": {
   "codemirror_mode": "rust",
   "file_extension": ".rs",
   "mimetype": "text/rust",
   "name": "Rust",
   "pygment_lexer": "rust",
   "version": ""
  }
 },
 "nbformat": 4,
 "nbformat_minor": 2
}
