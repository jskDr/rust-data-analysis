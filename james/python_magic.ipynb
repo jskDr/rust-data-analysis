{
 "cells": [
  {
   "cell_type": "code",
   "execution_count": 1,
   "id": "32581398-488b-4f69-a7a8-25e6a811a94e",
   "metadata": {},
   "outputs": [
    {
     "data": {
      "text/html": [
       "<script type=\"text/javascript\">\n",
       "    // Using JavaScript to add text to a specific HTML element\n",
       "    document.getElementById(\"output\").innerHTML = \"Hello from JavaScript!\";\n",
       "</script>\n",
       "\n",
       "<!-- HTML code -->\n",
       "<div id=\"output\"></div>\n"
      ],
      "text/plain": [
       "<IPython.core.display.HTML object>"
      ]
     },
     "metadata": {},
     "output_type": "display_data"
    }
   ],
   "source": [
    "%%html\n",
    "<script type=\"text/javascript\">\n",
    "    // Using JavaScript to add text to a specific HTML element\n",
    "    document.getElementById(\"output\").innerHTML = \"Hello from JavaScript!\";\n",
    "</script>\n",
    "\n",
    "<!-- HTML code -->\n",
    "<div id=\"output\"></div>"
   ]
  },
  {
   "cell_type": "code",
   "execution_count": 2,
   "id": "60a63a90-237d-4077-89b0-43d8f66970dd",
   "metadata": {},
   "outputs": [
    {
     "name": "stdout",
     "output_type": "stream",
     "text": [
      "Hello\n"
     ]
    }
   ],
   "source": [
    "%%bash\n",
    "echo \"Hello\""
   ]
  },
  {
   "cell_type": "code",
   "execution_count": 2,
   "id": "440ad135-279d-4986-9605-0d0c3a1463ed",
   "metadata": {},
   "outputs": [
    {
     "name": "stderr",
     "output_type": "stream",
     "text": [
      "UsageError: Cell magic `%%Rust` not found.\n"
     ]
    }
   ],
   "source": [
    "%%Rust\n",
    "println!(\"Hello\");"
   ]
  },
  {
   "cell_type": "code",
   "execution_count": null,
   "id": "81a2dddd-dc9d-4c0f-a7c4-68056fdbc6ad",
   "metadata": {},
   "outputs": [],
   "source": []
  }
 ],
 "metadata": {
  "kernelspec": {
   "display_name": "Python 3 (ipykernel)",
   "language": "python",
   "name": "python3"
  },
  "language_info": {
   "codemirror_mode": {
    "name": "ipython",
    "version": 3
   },
   "file_extension": ".py",
   "mimetype": "text/x-python",
   "name": "python",
   "nbconvert_exporter": "python",
   "pygments_lexer": "ipython3",
   "version": "3.10.12"
  }
 },
 "nbformat": 4,
 "nbformat_minor": 5
}
