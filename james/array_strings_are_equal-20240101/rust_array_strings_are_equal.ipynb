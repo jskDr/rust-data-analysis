{
 "cells": [
  {
   "cell_type": "markdown",
   "metadata": {},
   "source": [
    "# Algorithm and Data Structure by Rust \n",
    "## Exercise of 'Check If Two String Arrays are Equivalent'"
   ]
  },
  {
   "cell_type": "code",
   "execution_count": 37,
   "metadata": {},
   "outputs": [],
   "source": [
    "fn array_strings_are_equal(word1: Vec<String>, word2: Vec<String>) -> bool {\n",
    "    let (mut i1, mut i2, mut p1, mut p2) = (0,0,0,0);\n",
    "    let mut w1 = word1[p1].as_bytes();\n",
    "    let mut w2 = word2[p2].as_bytes();\n",
    "    while p1 < word1.len() && p2 < word2.len() {\n",
    "        if w1[i1] != w2[i2] {return false;}\n",
    "        i1 += 1; i2 += 1;\n",
    "        if i1 == w1.len() {\n",
    "            i1 = 0; p1 += 1;\n",
    "            if p1 < word1.len() {\n",
    "                w1 = word1[p1].as_bytes();\n",
    "            }\n",
    "        }\n",
    "        if i2 == w2.len() {\n",
    "            i2 = 0; p2 += 1;\n",
    "            if p2 < word2.len() {\n",
    "                w2 = word2[p2].as_bytes();\n",
    "            }\n",
    "        }\n",
    "    }\n",
    "    p1 == word1.len() && p2 == word2.len() \n",
    "}"
   ]
  },
  {
   "cell_type": "code",
   "execution_count": 38,
   "metadata": {},
   "outputs": [
    {
     "data": {
      "text/plain": [
       "([\"ab\", \"c\"], [\"a\", \"bc\"])"
      ]
     },
     "execution_count": 38,
     "metadata": {},
     "output_type": "execute_result"
    }
   ],
   "source": [
    "let (mut word1, mut word2) = ([\"ab\", \"c\"], [\"a\", \"bc\"]);\n",
    "let word1: Vec<_> = word1.into_iter().map(|s| s.to_string()).collect();\n",
    "let word2: Vec<_> = word2.into_iter().map(|s| s.to_string()).collect();\n",
    "(&word1, &word2)"
   ]
  },
  {
   "cell_type": "code",
   "execution_count": 39,
   "metadata": {},
   "outputs": [
    {
     "data": {
      "text/plain": [
       "true"
      ]
     },
     "execution_count": 39,
     "metadata": {},
     "output_type": "execute_result"
    }
   ],
   "source": [
    "let result = array_strings_are_equal(word1, word2);\n",
    "result"
   ]
  },
  {
   "cell_type": "code",
   "execution_count": 40,
   "metadata": {},
   "outputs": [],
   "source": [
    "let (mut word1, mut word2) = ([\"ab\", \"c\"], [\"a\", \"bc\"]);\n",
    "let word1: Vec<_> = word1.into_iter().map(|s| s.to_string()).collect();\n",
    "let word2: Vec<_> = word2.into_iter().map(|s| s.to_string()).collect();"
   ]
  },
  {
   "cell_type": "code",
   "execution_count": 41,
   "metadata": {},
   "outputs": [
    {
     "name": "stdout",
     "output_type": "stream",
     "text": [
      "ab ==> 97 98 \n",
      "c ==> 99 \n",
      "a ==> 97 \n",
      "bc ==> 98 99 \n"
     ]
    }
   ],
   "source": [
    "fn show_word_as_bytes(word: &Vec<String>) {\n",
    "    for s in word {\n",
    "        print!(\"{} ==> \", s);\n",
    "        for &b in s.as_bytes() { // &b: &u8 -> b: u8 (dereference)\n",
    "            print!(\"{} \", b);\n",
    "        }\n",
    "        println!();\n",
    "    }\n",
    "}\n",
    "\n",
    "show_word_as_bytes(&word1);\n",
    "show_word_as_bytes(&word2);"
   ]
  },
  {
   "cell_type": "code",
   "execution_count": 42,
   "metadata": {},
   "outputs": [
    {
     "name": "stdout",
     "output_type": "stream",
     "text": [
      "=========================\n"
     ]
    },
    {
     "name": "stdout",
     "output_type": "stream",
     "text": [
      "word ==> chars ==> bytes\n",
      "-------------------------\n",
      "ab ==> a b ==> 97 98 \n",
      "c ==> c ==> 99 \n",
      "=========================\n",
      "=========================\n",
      "word ==> chars ==> bytes\n",
      "-------------------------\n",
      "a ==> a ==> 97 \n",
      "bc ==> b c ==> 98 99 \n",
      "=========================\n"
     ]
    }
   ],
   "source": [
    "fn show_word_as_chars(word: &Vec<String>) {\n",
    "    println!(\"=========================\");\n",
    "    println!(\"word ==> chars ==> bytes\");\n",
    "    println!(\"-------------------------\");\n",
    "    for s in word {\n",
    "        print!(\"{} ==> \", s);\n",
    "        for c in s.chars() { // chars() returns Chars\n",
    "            print!(\"{} \", c);\n",
    "        }\n",
    "        print!(\"==> \");\n",
    "        for &b in s.as_bytes() { // as_bytes() returns &[u8]\n",
    "            print!(\"{} \", b);\n",
    "        }\n",
    "        println!();\n",
    "    }\n",
    "    println!(\"=========================\");\n",
    "}\n",
    "\n",
    "show_word_as_chars(&word1);\n",
    "show_word_as_chars(&word2);"
   ]
  },
  {
   "cell_type": "markdown",
   "metadata": {},
   "source": [
    "### Alternative Implementation"
   ]
  },
  {
   "cell_type": "code",
   "execution_count": 43,
   "metadata": {},
   "outputs": [],
   "source": [
    "fn array_strings_are_equal_alter(word1: Vec<String>, word2: Vec<String>) -> bool {\n",
    "    let word1 = word1.into_iter().collect::<String>();\n",
    "    let word2 = word2.into_iter().collect::<String>();\n",
    "    word1 == word2\n",
    "}"
   ]
  },
  {
   "cell_type": "code",
   "execution_count": 44,
   "metadata": {},
   "outputs": [
    {
     "data": {
      "text/plain": [
       "true"
      ]
     },
     "execution_count": 44,
     "metadata": {},
     "output_type": "execute_result"
    }
   ],
   "source": [
    "let result = array_strings_are_equal_alter(word1, word2);\n",
    "result"
   ]
  }
 ],
 "metadata": {
  "kernelspec": {
   "display_name": "Rust",
   "language": "rust",
   "name": "rust"
  },
  "language_info": {
   "codemirror_mode": "rust",
   "file_extension": ".rs",
   "mimetype": "text/rust",
   "name": "rust",
   "pygment_lexer": "rust",
   "version": ""
  }
 },
 "nbformat": 4,
 "nbformat_minor": 2
}
