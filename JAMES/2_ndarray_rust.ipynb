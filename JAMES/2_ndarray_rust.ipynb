{
 "cells": [
  {
   "cell_type": "markdown",
   "id": "a77d0902-4336-48db-9c07-b0849963818f",
   "metadata": {},
   "source": [
    "# Data Science by Rust\n",
    "# II. How to Use ndarray in Rust"
   ]
  },
  {
   "cell_type": "markdown",
   "id": "ddd1e118-85df-4daf-8f8a-8412e0dc0a20",
   "metadata": {},
   "source": [
    "## 1. Set-Up to Use ndarray"
   ]
  },
  {
   "cell_type": "markdown",
   "id": "02382b0e-1e09-4173-a4e4-17738b546e87",
   "metadata": {},
   "source": [
    "### Load Dependency\n",
    "You can load a Rust package using ':dep'."
   ]
  },
  {
   "cell_type": "code",
   "execution_count": 2,
   "id": "83872f5f-6b50-4232-b364-0eb7db63b078",
   "metadata": {
    "vscode": {
     "languageId": "rust"
    }
   },
   "outputs": [],
   "source": [
    ":dep ndarray = {version = \"0.15.6\"}"
   ]
  },
  {
   "cell_type": "markdown",
   "id": "2235179a-aa73-488f-af48-094d72d9a378",
   "metadata": {},
   "source": [
    "### Import Items from the Package"
   ]
  },
  {
   "cell_type": "code",
   "execution_count": 3,
   "id": "0b73a1ce-a73d-4597-88ca-65a53846dc9f",
   "metadata": {
    "vscode": {
     "languageId": "rust"
    }
   },
   "outputs": [],
   "source": [
    "use ndarray::{array, Array, Array1, Array2, Array3, ShapeBuilder, rcarr1};"
   ]
  },
  {
   "cell_type": "markdown",
   "id": "7df69f98-4b69-4d49-84c5-73f49f2c05c7",
   "metadata": {},
   "source": [
    "## 2. Basic Usages of ndarray"
   ]
  },
  {
   "cell_type": "markdown",
   "id": "0c52a4e1-d3fd-484f-b7b8-40e53419e598",
   "metadata": {},
   "source": [
    "### Assignment and Basic Math Operations"
   ]
  },
  {
   "cell_type": "markdown",
   "id": "10ba884e-4bbf-48a1-b815-e5b95d9362e4",
   "metadata": {},
   "source": [
    "You can generate ndarray from a vector."
   ]
  },
  {
   "cell_type": "code",
   "execution_count": 4,
   "id": "eb5d80da-d5f7-45f4-817f-c88f92ab22b7",
   "metadata": {
    "vscode": {
     "languageId": "rust"
    }
   },
   "outputs": [
    {
     "data": {
      "text/plain": [
       "[1.0, 2.0, 3.0, 4.0], shape=[4], strides=[1], layout=CFcf (0xf), const ndim=1"
      ]
     },
     "execution_count": 4,
     "metadata": {},
     "output_type": "execute_result"
    }
   ],
   "source": [
    "let arr_01 = Array::from_vec(vec![1., 2., 3., 4.]); // np.arry([])\n",
    "arr_01"
   ]
  },
  {
   "cell_type": "code",
   "execution_count": 5,
   "id": "6931cec6-c311-4d08-89d8-c62a95495e41",
   "metadata": {
    "vscode": {
     "languageId": "rust"
    }
   },
   "outputs": [
    {
     "data": {
      "text/plain": [
       "[1.0, 2.0, 3.0, 4.0], shape=[4], strides=[1], layout=CFcf (0xf), const ndim=1"
      ]
     },
     "execution_count": 5,
     "metadata": {},
     "output_type": "execute_result"
    }
   ],
   "source": [
    "let arr_02 = Array::from_vec(vec![1., 2., 3., 4.]);\n",
    "arr_02"
   ]
  },
  {
   "cell_type": "markdown",
   "id": "5f25ac64-f081-4dd4-8c76-be58d3060c80",
   "metadata": {},
   "source": [
    "Now you can add two ndarray if their dimenstions are equal."
   ]
  },
  {
   "cell_type": "code",
   "execution_count": 6,
   "id": "af09c4c4-ed53-40f5-9de9-b0ffc41d69f7",
   "metadata": {
    "vscode": {
     "languageId": "rust"
    }
   },
   "outputs": [
    {
     "data": {
      "text/plain": [
       "[2.0, 4.0, 6.0, 8.0], shape=[4], strides=[1], layout=CFcf (0xf), const ndim=1"
      ]
     },
     "execution_count": 6,
     "metadata": {},
     "output_type": "execute_result"
    }
   ],
   "source": [
    "let arr_03 = arr_01 + arr_02;\n",
    "arr_03"
   ]
  },
  {
   "cell_type": "markdown",
   "id": "402437d4-5e32-4f6a-bb1d-f8de726f03ca",
   "metadata": {},
   "source": [
    "However, you can not reuse both arr_01 and arr_02 if you use movement form in assignment. Becuase of movement type assignment above arr_01 and arr_02 are expired, we can not reuse them any more. "
   ]
  },
  {
   "cell_type": "code",
   "execution_count": 7,
   "id": "84d5e14f-1b4e-4e81-8959-834f5d92d958",
   "metadata": {
    "vscode": {
     "languageId": "rust"
    }
   },
   "outputs": [
    {
     "ename": "Error",
     "evalue": "cannot find value `arr_01` in this scope",
     "output_type": "error",
     "traceback": [
      "\u001b[31m[E0425] Error:\u001b[0m cannot find value `arr_01` in this scope",
      "   \u001b[38;5;246m╭\u001b[0m\u001b[38;5;246m─\u001b[0m\u001b[38;5;246m[\u001b[0mcommand_7:1:1\u001b[38;5;246m]\u001b[0m",
      "   \u001b[38;5;246m│\u001b[0m",
      " \u001b[38;5;246m1 │\u001b[0m \u001b[38;5;54ma\u001b[0m\u001b[38;5;54mr\u001b[0m\u001b[38;5;54mr\u001b[0m\u001b[38;5;54m_\u001b[0m\u001b[38;5;54m0\u001b[0m\u001b[38;5;54m1\u001b[0m",
      " \u001b[38;5;240m  │\u001b[0m \u001b[38;5;54m─\u001b[0m\u001b[38;5;54m─\u001b[0m\u001b[38;5;54m─\u001b[0m\u001b[38;5;54m┬\u001b[0m\u001b[38;5;54m─\u001b[0m\u001b[38;5;54m─\u001b[0m  ",
      " \u001b[38;5;240m  │\u001b[0m    \u001b[38;5;54m╰\u001b[0m\u001b[38;5;54m─\u001b[0m\u001b[38;5;54m─\u001b[0m\u001b[38;5;54m─\u001b[0m\u001b[38;5;54m─\u001b[0m error: cannot find value `arr_01` in this scope",
      " \u001b[38;5;240m  │\u001b[0m    \u001b[38;5;100m│\u001b[0m    ",
      " \u001b[38;5;240m  │\u001b[0m    \u001b[38;5;100m╰\u001b[0m\u001b[38;5;100m─\u001b[0m\u001b[38;5;100m─\u001b[0m\u001b[38;5;100m─\u001b[0m\u001b[38;5;100m─\u001b[0m help: a local variable with a similar name exists: `arr_03`",
      "\u001b[38;5;246m───╯\u001b[0m"
     ]
    }
   ],
   "source": [
    "arr_01"
   ]
  },
  {
   "cell_type": "markdown",
   "id": "a5649ad6-abe4-41e4-b4b0-fd01fbe371cd",
   "metadata": {},
   "source": [
    "To enable reuse of them, you have to use the reference form. "
   ]
  },
  {
   "cell_type": "code",
   "execution_count": 8,
   "id": "8a7f516d-4bf3-4fbc-a7a9-93a25df75e93",
   "metadata": {
    "vscode": {
     "languageId": "rust"
    }
   },
   "outputs": [
    {
     "data": {
      "text/plain": [
       "[2.0, 4.0, 6.0, 8.0], shape=[4], strides=[1], layout=CFcf (0xf), const ndim=1"
      ]
     },
     "execution_count": 8,
     "metadata": {},
     "output_type": "execute_result"
    }
   ],
   "source": [
    "let arr_01 = Array::from_vec(vec![1.0, 2.0, 3.0, 4.0]);\n",
    "let arr_02 = Array::from_vec(vec![1.0, 2.0, 3.0, 4.0]);\n",
    "let arr_03 = &arr_01 + &arr_02;\n",
    "arr_03"
   ]
  },
  {
   "cell_type": "markdown",
   "id": "d8f27e85-9852-4226-ba26-56d9b913a158",
   "metadata": {},
   "source": [
    "Now, we can reuse both arr_01 and arr_02 since they are not moved but used as the borrowing way. This concept is important to remember since it is a core of fast Rust processing."
   ]
  },
  {
   "cell_type": "markdown",
   "id": "aaa6d89b-986c-4ca4-89ed-c43063f56249",
   "metadata": {},
   "source": [
    "Notice that if you want to display both arr_01 and arr_02 by the use of combining as tuple formatting, you have to consider borrowing as well. Otherwise you can not reuse them. Ofcause, if you just use one of it for displaying, it would be okay even if you don't consider to use a borrowing format. "
   ]
  },
  {
   "cell_type": "code",
   "execution_count": 9,
   "id": "f86a2b2b-b777-4efe-87a6-c6bd2e169b4a",
   "metadata": {
    "vscode": {
     "languageId": "rust"
    }
   },
   "outputs": [
    {
     "data": {
      "text/plain": [
       "([1.0, 2.0, 3.0, 4.0], shape=[4], strides=[1], layout=CFcf (0xf), const ndim=1, [1.0, 2.0, 3.0, 4.0], shape=[4], strides=[1], layout=CFcf (0xf), const ndim=1)"
      ]
     },
     "execution_count": 9,
     "metadata": {},
     "output_type": "execute_result"
    }
   ],
   "source": [
    "(&arr_01, &arr_02)"
   ]
  },
  {
   "cell_type": "markdown",
   "id": "f22f385f-b259-4637-8b7e-50672a4d93a6",
   "metadata": {},
   "source": [
    "The use of only one variable to display, it is always okay. "
   ]
  },
  {
   "cell_type": "code",
   "execution_count": 10,
   "id": "a416fe51-e4b9-419b-8c60-7871e3f76f25",
   "metadata": {
    "vscode": {
     "languageId": "rust"
    }
   },
   "outputs": [
    {
     "data": {
      "text/plain": [
       "[1.0, 2.0, 3.0, 4.0], shape=[4], strides=[1], layout=CFcf (0xf), const ndim=1"
      ]
     },
     "execution_count": 10,
     "metadata": {},
     "output_type": "execute_result"
    }
   ],
   "source": [
    "arr_01"
   ]
  },
  {
   "cell_type": "code",
   "execution_count": 11,
   "id": "e84ee308-72f4-47c5-a958-dc210e6b8308",
   "metadata": {
    "vscode": {
     "languageId": "rust"
    }
   },
   "outputs": [
    {
     "data": {
      "text/plain": [
       "[1.0, 2.0, 3.0, 4.0], shape=[4], strides=[1], layout=CFcf (0xf), const ndim=1"
      ]
     },
     "execution_count": 11,
     "metadata": {},
     "output_type": "execute_result"
    }
   ],
   "source": [
    "arr_02"
   ]
  },
  {
   "cell_type": "markdown",
   "id": "0b0f1ef2-e431-4149-889a-d2c51a789131",
   "metadata": {},
   "source": [
    "You can use a reference formatting as well."
   ]
  },
  {
   "cell_type": "code",
   "execution_count": 12,
   "id": "17be95f3-4720-4cfe-9648-21165fa5a237",
   "metadata": {
    "vscode": {
     "languageId": "rust"
    }
   },
   "outputs": [
    {
     "data": {
      "text/plain": [
       "[1.0, 2.0, 3.0, 4.0], shape=[4], strides=[1], layout=CFcf (0xf), const ndim=1"
      ]
     },
     "execution_count": 12,
     "metadata": {},
     "output_type": "execute_result"
    }
   ],
   "source": [
    "&arr_01"
   ]
  },
  {
   "cell_type": "code",
   "execution_count": 13,
   "id": "685f0515-cd2a-44d6-adb0-c6051eee725b",
   "metadata": {
    "vscode": {
     "languageId": "rust"
    }
   },
   "outputs": [
    {
     "data": {
      "text/plain": [
       "[1.0, 2.0, 3.0, 4.0], shape=[4], strides=[1], layout=CFcf (0xf), const ndim=1"
      ]
     },
     "execution_count": 13,
     "metadata": {},
     "output_type": "execute_result"
    }
   ],
   "source": [
    "&arr_02"
   ]
  },
  {
   "cell_type": "markdown",
   "id": "3b504c11-fad1-42f5-a567-907bacdef874",
   "metadata": {},
   "source": [
    "The same case is applied if you want to multipy with a constant.  "
   ]
  },
  {
   "cell_type": "code",
   "execution_count": 14,
   "id": "3e0a4810-220e-4deb-ad1c-d16f850bda29",
   "metadata": {
    "vscode": {
     "languageId": "rust"
    }
   },
   "outputs": [
    {
     "data": {
      "text/plain": [
       "[4.0, 8.0, 12.0, 16.0], shape=[4], strides=[1], layout=CFcf (0xf), const ndim=1"
      ]
     },
     "execution_count": 14,
     "metadata": {},
     "output_type": "execute_result"
    }
   ],
   "source": [
    "let arr_04 = 2.0*arr_03;\n",
    "arr_04"
   ]
  },
  {
   "cell_type": "code",
   "execution_count": 15,
   "id": "34cba91e-edcb-4f0c-b03a-dc50cd3e7c0b",
   "metadata": {
    "vscode": {
     "languageId": "rust"
    }
   },
   "outputs": [
    {
     "ename": "Error",
     "evalue": "cannot find value `arr_03` in this scope",
     "output_type": "error",
     "traceback": [
      "\u001b[31m[E0425] Error:\u001b[0m cannot find value `arr_03` in this scope",
      "   \u001b[38;5;246m╭\u001b[0m\u001b[38;5;246m─\u001b[0m\u001b[38;5;246m[\u001b[0mcommand_15:1:1\u001b[38;5;246m]\u001b[0m",
      "   \u001b[38;5;246m│\u001b[0m",
      " \u001b[38;5;246m1 │\u001b[0m \u001b[38;5;54ma\u001b[0m\u001b[38;5;54mr\u001b[0m\u001b[38;5;54mr\u001b[0m\u001b[38;5;54m_\u001b[0m\u001b[38;5;54m0\u001b[0m\u001b[38;5;54m3\u001b[0m",
      " \u001b[38;5;240m  │\u001b[0m \u001b[38;5;54m─\u001b[0m\u001b[38;5;54m─\u001b[0m\u001b[38;5;54m─\u001b[0m\u001b[38;5;54m┬\u001b[0m\u001b[38;5;54m─\u001b[0m\u001b[38;5;54m─\u001b[0m  ",
      " \u001b[38;5;240m  │\u001b[0m    \u001b[38;5;54m╰\u001b[0m\u001b[38;5;54m─\u001b[0m\u001b[38;5;54m─\u001b[0m\u001b[38;5;54m─\u001b[0m\u001b[38;5;54m─\u001b[0m error: cannot find value `arr_03` in this scope",
      " \u001b[38;5;240m  │\u001b[0m    \u001b[38;5;100m│\u001b[0m    ",
      " \u001b[38;5;240m  │\u001b[0m    \u001b[38;5;100m╰\u001b[0m\u001b[38;5;100m─\u001b[0m\u001b[38;5;100m─\u001b[0m\u001b[38;5;100m─\u001b[0m\u001b[38;5;100m─\u001b[0m help: a local variable with a similar name exists: `arr_01`",
      "\u001b[38;5;246m───╯\u001b[0m"
     ]
    }
   ],
   "source": [
    "arr_03"
   ]
  },
  {
   "cell_type": "code",
   "execution_count": 16,
   "id": "ac4b1c69-e1fc-4846-ab0b-a3081fac2a0a",
   "metadata": {
    "vscode": {
     "languageId": "rust"
    }
   },
   "outputs": [
    {
     "data": {
      "text/plain": [
       "([4.0, 8.0, 12.0, 16.0], shape=[4], strides=[1], layout=CFcf (0xf), const ndim=1, [2.0, 4.0, 6.0, 8.0], shape=[4], strides=[1], layout=CFcf (0xf), const ndim=1)"
      ]
     },
     "execution_count": 16,
     "metadata": {},
     "output_type": "execute_result"
    }
   ],
   "source": [
    "let arr_01 = Array::from_vec(vec![1.0, 2.0, 3.0, 4.0]);\n",
    "let arr_02 = Array::from_vec(vec![1.0, 2.0, 3.0, 4.0]);\n",
    "let arr_03 = &arr_01 + &arr_02;\n",
    "let arr_04 = 2.0 * &arr_03;\n",
    "(&arr_04, &arr_03)"
   ]
  },
  {
   "cell_type": "code",
   "execution_count": 17,
   "id": "a7c61f94-7ab1-496f-95cb-bb2046939825",
   "metadata": {
    "vscode": {
     "languageId": "rust"
    }
   },
   "outputs": [
    {
     "data": {
      "text/plain": [
       "[1.0, 4.0, 9.0, 16.0], shape=[4], strides=[1], layout=CFcf (0xf), const ndim=1"
      ]
     },
     "execution_count": 17,
     "metadata": {},
     "output_type": "execute_result"
    }
   ],
   "source": [
    "let arr_05 = &arr_01 * &arr_02; // no use direct form if you want to reuse arr_01 and arr_02\n",
    "arr_05"
   ]
  },
  {
   "cell_type": "code",
   "execution_count": 18,
   "id": "7e2ee73e-9a14-4613-9bee-37e4007c710f",
   "metadata": {
    "vscode": {
     "languageId": "rust"
    }
   },
   "outputs": [
    {
     "data": {
      "text/plain": [
       "([1.0, 2.0, 3.0, 4.0], shape=[4], strides=[1], layout=CFcf (0xf), const ndim=1, [1.0, 2.0, 3.0, 4.0], shape=[4], strides=[1], layout=CFcf (0xf), const ndim=1)"
      ]
     },
     "execution_count": 18,
     "metadata": {},
     "output_type": "execute_result"
    }
   ],
   "source": [
    "(&arr_01, &arr_02)"
   ]
  },
  {
   "cell_type": "code",
   "execution_count": 19,
   "id": "be282abf-7dfc-4d38-9ebe-e2aa49df706b",
   "metadata": {
    "vscode": {
     "languageId": "rust"
    }
   },
   "outputs": [
    {
     "data": {
      "text/plain": [
       "[1.0, 2.0, 3.0, 4.0], shape=[4], strides=[1], layout=CFcf (0xf), const ndim=1"
      ]
     },
     "execution_count": 19,
     "metadata": {},
     "output_type": "execute_result"
    }
   ],
   "source": [
    "arr_01"
   ]
  },
  {
   "cell_type": "markdown",
   "id": "e351b2ef-ca19-4d9a-82bb-88763165039a",
   "metadata": {},
   "source": [
    "### Basic Generation Methods\n",
    "We use zeros, ones, range, linspace, fill, eye and random methods to generate an array."
   ]
  },
  {
   "cell_type": "code",
   "execution_count": 20,
   "id": "37f6c5aa-e80c-41e0-b600-6d932c3c5667",
   "metadata": {
    "vscode": {
     "languageId": "rust"
    }
   },
   "outputs": [
    {
     "data": {
      "text/plain": [
       "[[0.0, 0.0, 0.0],\n",
       " [0.0, 0.0, 0.0],\n",
       " [0.0, 0.0, 0.0]], shape=[3, 3], strides=[3, 1], layout=Cc (0x5), const ndim=2"
      ]
     },
     "execution_count": 20,
     "metadata": {},
     "output_type": "execute_result"
    }
   ],
   "source": [
    "let arr_11 = Array::<f64,_>::zeros((3,3));\n",
    "arr_11"
   ]
  },
  {
   "cell_type": "code",
   "execution_count": 21,
   "id": "f246e240-830e-4157-9d9e-8f731b9ade1c",
   "metadata": {
    "vscode": {
     "languageId": "rust"
    }
   },
   "outputs": [
    {
     "data": {
      "text/plain": [
       "[[1.0, 1.0, 1.0],\n",
       " [1.0, 1.0, 1.0],\n",
       " [1.0, 1.0, 1.0]], shape=[3, 3], strides=[3, 1], layout=Cc (0x5), const ndim=2"
      ]
     },
     "execution_count": 21,
     "metadata": {},
     "output_type": "execute_result"
    }
   ],
   "source": [
    "let arr_12 = Array::<f64,_>::ones((3,3));\n",
    "arr_12"
   ]
  },
  {
   "cell_type": "code",
   "execution_count": 22,
   "id": "a3d6b47a-11d0-416f-9215-309d7cc3798a",
   "metadata": {
    "vscode": {
     "languageId": "rust"
    }
   },
   "outputs": [
    {
     "data": {
      "text/plain": [
       "[[1.0, 0.0, 0.0],\n",
       " [0.0, 1.0, 0.0],\n",
       " [0.0, 0.0, 1.0]], shape=[3, 3], strides=[3, 1], layout=Cc (0x5), const ndim=2"
      ]
     },
     "execution_count": 22,
     "metadata": {},
     "output_type": "execute_result"
    }
   ],
   "source": [
    "let arr_13 = Array::<f64,_>::eye(3);\n",
    "arr_13"
   ]
  },
  {
   "cell_type": "markdown",
   "id": "99ae23c4-47f3-4751-8b01-fbc8dbaa0e61",
   "metadata": {},
   "source": [
    "We can fill an array with a specified value. "
   ]
  },
  {
   "cell_type": "code",
   "execution_count": 23,
   "id": "6888b64e-abbe-4520-904d-ce36db21f7fa",
   "metadata": {
    "vscode": {
     "languageId": "rust"
    }
   },
   "outputs": [
    {
     "ename": "Error",
     "evalue": "cannot borrow `arr_14` as mutable, as it is not declared as mutable",
     "output_type": "error",
     "traceback": [
      "\u001b[31m[E0596] Error:\u001b[0m cannot borrow `arr_14` as mutable, as it is not declared as mutable",
      "   \u001b[38;5;246m╭\u001b[0m\u001b[38;5;246m─\u001b[0m\u001b[38;5;246m[\u001b[0mcommand_23:1:1\u001b[38;5;246m]\u001b[0m",
      "   \u001b[38;5;246m│\u001b[0m",
      " \u001b[38;5;246m1 │\u001b[0m \u001b[38;5;249ml\u001b[0m\u001b[38;5;249me\u001b[0m\u001b[38;5;249mt\u001b[0m\u001b[38;5;249m \u001b[0m\u001b[38;5;249ma\u001b[0m\u001b[38;5;249mr\u001b[0m\u001b[38;5;249mr\u001b[0m\u001b[38;5;249m_\u001b[0m\u001b[38;5;249m1\u001b[0m\u001b[38;5;249m4\u001b[0m\u001b[38;5;249m \u001b[0m\u001b[38;5;249m=\u001b[0m\u001b[38;5;249m \u001b[0m\u001b[38;5;249mA\u001b[0m\u001b[38;5;249mr\u001b[0m\u001b[38;5;249mr\u001b[0m\u001b[38;5;249ma\u001b[0m\u001b[38;5;249my\u001b[0m\u001b[38;5;249m:\u001b[0m\u001b[38;5;249m:\u001b[0m\u001b[38;5;249m<\u001b[0m\u001b[38;5;249mf\u001b[0m\u001b[38;5;249m6\u001b[0m\u001b[38;5;249m4\u001b[0m\u001b[38;5;249m,\u001b[0m\u001b[38;5;249m_\u001b[0m\u001b[38;5;249m>\u001b[0m\u001b[38;5;249m:\u001b[0m\u001b[38;5;249m:\u001b[0m\u001b[38;5;249mz\u001b[0m\u001b[38;5;249me\u001b[0m\u001b[38;5;249mr\u001b[0m\u001b[38;5;249mo\u001b[0m\u001b[38;5;249ms\u001b[0m\u001b[38;5;249m(\u001b[0m\u001b[38;5;249m(\u001b[0m\u001b[38;5;249m3\u001b[0m\u001b[38;5;249m,\u001b[0m\u001b[38;5;249m3\u001b[0m\u001b[38;5;249m)\u001b[0m\u001b[38;5;249m)\u001b[0m\u001b[38;5;249m;\u001b[0m",
      " \u001b[38;5;240m  │\u001b[0m     \u001b[38;5;100m│\u001b[0m ",
      " \u001b[38;5;240m  │\u001b[0m     \u001b[38;5;100m╰\u001b[0m\u001b[38;5;100m─\u001b[0m help: consider changing this to be mutable: `mut `",
      " \u001b[38;5;246m2 │\u001b[0m \u001b[38;5;54ma\u001b[0m\u001b[38;5;54mr\u001b[0m\u001b[38;5;54mr\u001b[0m\u001b[38;5;54m_\u001b[0m\u001b[38;5;54m1\u001b[0m\u001b[38;5;54m4\u001b[0m\u001b[38;5;249m.\u001b[0m\u001b[38;5;249mf\u001b[0m\u001b[38;5;249mi\u001b[0m\u001b[38;5;249ml\u001b[0m\u001b[38;5;249ml\u001b[0m\u001b[38;5;249m(\u001b[0m\u001b[38;5;249m1\u001b[0m\u001b[38;5;249m.\u001b[0m\u001b[38;5;249m0\u001b[0m\u001b[38;5;249m)\u001b[0m\u001b[38;5;249m;\u001b[0m",
      " \u001b[38;5;240m  │\u001b[0m \u001b[38;5;54m─\u001b[0m\u001b[38;5;54m─\u001b[0m\u001b[38;5;54m─\u001b[0m\u001b[38;5;54m┬\u001b[0m\u001b[38;5;54m─\u001b[0m\u001b[38;5;54m─\u001b[0m  ",
      " \u001b[38;5;240m  │\u001b[0m    \u001b[38;5;54m╰\u001b[0m\u001b[38;5;54m─\u001b[0m\u001b[38;5;54m─\u001b[0m\u001b[38;5;54m─\u001b[0m\u001b[38;5;54m─\u001b[0m cannot borrow as mutable",
      " \u001b[38;5;240m  │\u001b[0m ",
      " \u001b[38;5;240m  │\u001b[0m \u001b[38;5;115mNote\u001b[0m: You can change an existing variable to mutable like: `let mut x = x;`",
      "\u001b[38;5;246m───╯\u001b[0m"
     ]
    }
   ],
   "source": [
    "let arr_14 = Array::<f64,_>::zeros((3,3));\n",
    "arr_14.fill(1.0);\n",
    "arr_14"
   ]
  },
  {
   "cell_type": "markdown",
   "id": "4ab0393b-8704-478e-aaef-081ea5994ef5",
   "metadata": {},
   "source": [
    "To change value of an array such as by filling, we have to define the target array as muttable. Otherwise, we can not change them."
   ]
  },
  {
   "cell_type": "code",
   "execution_count": 24,
   "id": "5ae7036c-b065-44ab-97f0-2773b285aa8c",
   "metadata": {
    "vscode": {
     "languageId": "rust"
    }
   },
   "outputs": [
    {
     "data": {
      "text/plain": [
       "[[1.0, 1.0, 1.0],\n",
       " [1.0, 1.0, 1.0],\n",
       " [1.0, 1.0, 1.0]], shape=[3, 3], strides=[3, 1], layout=Cc (0x5), const ndim=2"
      ]
     },
     "execution_count": 24,
     "metadata": {},
     "output_type": "execute_result"
    }
   ],
   "source": [
    "let mut arr_14 = Array::<f64,_>::zeros((3,3));\n",
    "arr_14.fill(1.0);\n",
    "arr_14"
   ]
  },
  {
   "cell_type": "markdown",
   "id": "4f5940c0-73dd-498d-ae91-4ce546b383da",
   "metadata": {},
   "source": [
    "### Range and Linspace"
   ]
  },
  {
   "cell_type": "code",
   "execution_count": 25,
   "id": "1954c393-92cd-4682-a590-1be48254b7f0",
   "metadata": {
    "vscode": {
     "languageId": "rust"
    }
   },
   "outputs": [
    {
     "data": {
      "text/plain": [
       "[0.0, 1.0, 2.0, 3.0, 4.0], shape=[5], strides=[1], layout=CFcf (0xf), const ndim=1"
      ]
     },
     "execution_count": 25,
     "metadata": {},
     "output_type": "execute_result"
    }
   ],
   "source": [
    "let arr_15 = Array::<f64,_>::range(0., 5., 1.);\n",
    "arr_15"
   ]
  },
  {
   "cell_type": "code",
   "execution_count": 26,
   "id": "1737c1b0-348e-40b1-a398-233e7a8bc591",
   "metadata": {
    "vscode": {
     "languageId": "rust"
    }
   },
   "outputs": [
    {
     "data": {
      "text/plain": [
       "[0.0, 0.25, 0.5, 0.75, 1.0], shape=[5], strides=[1], layout=CFcf (0xf), const ndim=1"
      ]
     },
     "execution_count": 26,
     "metadata": {},
     "output_type": "execute_result"
    }
   ],
   "source": [
    "let arr_16 = Array::<f64,_>::linspace(0., 1., 5); // 1.0 / (K-1) = 0.25\n",
    "arr_16"
   ]
  }
 ],
 "metadata": {
  "kernelspec": {
   "display_name": "Rust",
   "language": "rust",
   "name": "rust"
  },
  "language_info": {
   "codemirror_mode": "rust",
   "file_extension": ".rs",
   "mimetype": "text/rust",
   "name": "Rust",
   "pygment_lexer": "rust",
   "version": ""
  }
 },
 "nbformat": 4,
 "nbformat_minor": 5
}
